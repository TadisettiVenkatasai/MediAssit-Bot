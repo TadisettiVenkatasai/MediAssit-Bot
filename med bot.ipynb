{
 "cells": [
  {
   "cell_type": "code",
   "execution_count": 1,
   "id": "c900fcdd",
   "metadata": {},
   "outputs": [],
   "source": [
    "import pandas as pd\n",
    "from sklearn.feature_extraction.text import CountVectorizer\n",
    "from sklearn.naive_bayes import MultinomialNB"
   ]
  },
  {
   "cell_type": "code",
   "execution_count": 2,
   "id": "637767f5",
   "metadata": {},
   "outputs": [],
   "source": [
    "# Step 1: Load the dataset safely\n",
    "try:\n",
    "    df = pd.read_csv(r\"C:\\Users\\K.Pushpavali\\Downloads\\medicine_dataset_100.csv\")\n",
    "except FileNotFoundError:\n",
    "    print(\"ERROR: medicine_dataset_100.csv not found. Make sure it is in the working directory.\")\n",
    "    df = pd.DataFrame(columns=[\"Medicine\", \"Quantity\", \"Age\", \"Purpose\"])\n",
    "\n",
    "# Normalize column names and medicine names\n",
    "df.columns = [col.strip().capitalize() for col in df.columns]\n",
    "if 'Medicine' in df.columns:\n",
    "    df['Medicine'] = df['Medicine'].str.lower()\n",
    "else:\n",
    "    print(\"WARNING: 'Medicine' column missing in dataset.\")"
   ]
  },
  {
   "cell_type": "code",
   "execution_count": 3,
   "id": "3f5133b3",
   "metadata": {},
   "outputs": [],
   "source": [
    "# Step 2: Define intents\n",
    "intents = [\n",
    "    {\n",
    "        \"tag\": \"greeting\",\n",
    "        \"patterns\": [\"hi\", \"hello\", \"hey\", \"good morning\", \"good afternoon\"],\n",
    "        \"response\": \"Hello! How can I assist you today?\"\n",
    "    },\n",
    "    {\n",
    "        \"tag\": \"thanks\",\n",
    "        \"patterns\": [\"thanks\", \"thank you\", \"thx\", \"appreciate it\"],\n",
    "        \"response\": \"You're welcome!\"\n",
    "    },\n",
    "    {\n",
    "        \"tag\": \"goodbye\",\n",
    "        \"patterns\": [\"bye\", \"goodbye\", \"see you later\", \"exit\"],\n",
    "        \"response\": \"Goodbye! Take care and stay healthy.\"\n",
    "    },\n",
    "    {\n",
    "        \"tag\": \"help\",\n",
    "        \"patterns\": [\"i need help\", \"can you help me\", \"how does this work\", \"what can you do\"],\n",
    "        \"response\": \"I can provide details about medicines like quantity, age group, and usage. Just ask me about any medicine!\"\n",
    "    },\n",
    "    {\n",
    "        \"tag\": \"symptoms\",\n",
    "        \"patterns\": [\"what are the symptoms of flu\", \"signs of cold\", \"how to know if i have fever\"],\n",
    "        \"response\": \"Common symptoms include headache, fever, cough, body ache, or fatigue. Please consult a doctor for a proper diagnosis.\"\n",
    "    },\n",
    "    {\n",
    "        \"tag\": \"doctor_check\",\n",
    "        \"patterns\": [\"are you a doctor\", \"can you prescribe\", \"can you treat me\"],\n",
    "        \"response\": \"I'm not a doctor, but I can give general information about medicines. Please consult a licensed physician for prescriptions.\"\n",
    "    },\n",
    "    {\n",
    "        \"tag\": \"side_effects\",\n",
    "        \"patterns\": [\"what are the side effects\", \"is this medicine safe\", \"can this cause problems\"],\n",
    "        \"response\": \"Medicines can have side effects like nausea, dizziness, or allergies. Check the leaflet or consult a pharmacist.\"\n",
    "    },\n",
    "    {\n",
    "        \"tag\": \"not_feeling_well\",\n",
    "        \"patterns\": [\"i feel sick\", \"i don't feel good\", \"i'm unwell\", \"i'm feeling dizzy\"],\n",
    "        \"response\": \"I'm sorry to hear that. Please take rest and consult a doctor if symptoms persist.\"\n",
    "    },\n",
    "    {\n",
    "        \"tag\": \"medicine_check\",\n",
    "        \"patterns\": [\"can i take paracetamol\", \"is ibuprofen safe\", \"should i use aspirin\"],\n",
    "        \"response\": \"Let me check that for you. Please tell me your age and symptoms so I can give better info.\"\n",
    "    }\n",
    "]"
   ]
  },
  {
   "cell_type": "code",
   "execution_count": 4,
   "id": "825bcc95",
   "metadata": {},
   "outputs": [],
   "source": [
    "# Step 3: Prepare training data\n",
    "corpus = []\n",
    "labels = []\n",
    "\n",
    "for intent in intents:\n",
    "    for pattern in intent[\"patterns\"]:\n",
    "        corpus.append(pattern.lower())\n",
    "        labels.append(intent[\"tag\"])"
   ]
  },
  {
   "cell_type": "code",
   "execution_count": 5,
   "id": "9ece1c5a",
   "metadata": {},
   "outputs": [
    {
     "data": {
      "text/html": [
       "<style>#sk-container-id-1 {color: black;}#sk-container-id-1 pre{padding: 0;}#sk-container-id-1 div.sk-toggleable {background-color: white;}#sk-container-id-1 label.sk-toggleable__label {cursor: pointer;display: block;width: 100%;margin-bottom: 0;padding: 0.3em;box-sizing: border-box;text-align: center;}#sk-container-id-1 label.sk-toggleable__label-arrow:before {content: \"▸\";float: left;margin-right: 0.25em;color: #696969;}#sk-container-id-1 label.sk-toggleable__label-arrow:hover:before {color: black;}#sk-container-id-1 div.sk-estimator:hover label.sk-toggleable__label-arrow:before {color: black;}#sk-container-id-1 div.sk-toggleable__content {max-height: 0;max-width: 0;overflow: hidden;text-align: left;background-color: #f0f8ff;}#sk-container-id-1 div.sk-toggleable__content pre {margin: 0.2em;color: black;border-radius: 0.25em;background-color: #f0f8ff;}#sk-container-id-1 input.sk-toggleable__control:checked~div.sk-toggleable__content {max-height: 200px;max-width: 100%;overflow: auto;}#sk-container-id-1 input.sk-toggleable__control:checked~label.sk-toggleable__label-arrow:before {content: \"▾\";}#sk-container-id-1 div.sk-estimator input.sk-toggleable__control:checked~label.sk-toggleable__label {background-color: #d4ebff;}#sk-container-id-1 div.sk-label input.sk-toggleable__control:checked~label.sk-toggleable__label {background-color: #d4ebff;}#sk-container-id-1 input.sk-hidden--visually {border: 0;clip: rect(1px 1px 1px 1px);clip: rect(1px, 1px, 1px, 1px);height: 1px;margin: -1px;overflow: hidden;padding: 0;position: absolute;width: 1px;}#sk-container-id-1 div.sk-estimator {font-family: monospace;background-color: #f0f8ff;border: 1px dotted black;border-radius: 0.25em;box-sizing: border-box;margin-bottom: 0.5em;}#sk-container-id-1 div.sk-estimator:hover {background-color: #d4ebff;}#sk-container-id-1 div.sk-parallel-item::after {content: \"\";width: 100%;border-bottom: 1px solid gray;flex-grow: 1;}#sk-container-id-1 div.sk-label:hover label.sk-toggleable__label {background-color: #d4ebff;}#sk-container-id-1 div.sk-serial::before {content: \"\";position: absolute;border-left: 1px solid gray;box-sizing: border-box;top: 0;bottom: 0;left: 50%;z-index: 0;}#sk-container-id-1 div.sk-serial {display: flex;flex-direction: column;align-items: center;background-color: white;padding-right: 0.2em;padding-left: 0.2em;position: relative;}#sk-container-id-1 div.sk-item {position: relative;z-index: 1;}#sk-container-id-1 div.sk-parallel {display: flex;align-items: stretch;justify-content: center;background-color: white;position: relative;}#sk-container-id-1 div.sk-item::before, #sk-container-id-1 div.sk-parallel-item::before {content: \"\";position: absolute;border-left: 1px solid gray;box-sizing: border-box;top: 0;bottom: 0;left: 50%;z-index: -1;}#sk-container-id-1 div.sk-parallel-item {display: flex;flex-direction: column;z-index: 1;position: relative;background-color: white;}#sk-container-id-1 div.sk-parallel-item:first-child::after {align-self: flex-end;width: 50%;}#sk-container-id-1 div.sk-parallel-item:last-child::after {align-self: flex-start;width: 50%;}#sk-container-id-1 div.sk-parallel-item:only-child::after {width: 0;}#sk-container-id-1 div.sk-dashed-wrapped {border: 1px dashed gray;margin: 0 0.4em 0.5em 0.4em;box-sizing: border-box;padding-bottom: 0.4em;background-color: white;}#sk-container-id-1 div.sk-label label {font-family: monospace;font-weight: bold;display: inline-block;line-height: 1.2em;}#sk-container-id-1 div.sk-label-container {text-align: center;}#sk-container-id-1 div.sk-container {/* jupyter's `normalize.less` sets `[hidden] { display: none; }` but bootstrap.min.css set `[hidden] { display: none !important; }` so we also need the `!important` here to be able to override the default hidden behavior on the sphinx rendered scikit-learn.org. See: https://github.com/scikit-learn/scikit-learn/issues/21755 */display: inline-block !important;position: relative;}#sk-container-id-1 div.sk-text-repr-fallback {display: none;}</style><div id=\"sk-container-id-1\" class=\"sk-top-container\"><div class=\"sk-text-repr-fallback\"><pre>MultinomialNB()</pre><b>In a Jupyter environment, please rerun this cell to show the HTML representation or trust the notebook. <br />On GitHub, the HTML representation is unable to render, please try loading this page with nbviewer.org.</b></div><div class=\"sk-container\" hidden><div class=\"sk-item\"><div class=\"sk-estimator sk-toggleable\"><input class=\"sk-toggleable__control sk-hidden--visually\" id=\"sk-estimator-id-1\" type=\"checkbox\" checked><label for=\"sk-estimator-id-1\" class=\"sk-toggleable__label sk-toggleable__label-arrow\">MultinomialNB</label><div class=\"sk-toggleable__content\"><pre>MultinomialNB()</pre></div></div></div></div></div>"
      ],
      "text/plain": [
       "MultinomialNB()"
      ]
     },
     "execution_count": 5,
     "metadata": {},
     "output_type": "execute_result"
    }
   ],
   "source": [
    "# Step 4: Train model\n",
    "vectorizer = CountVectorizer()\n",
    "X = vectorizer.fit_transform(corpus)\n",
    "model = MultinomialNB()\n",
    "model.fit(X, labels)"
   ]
  },
  {
   "cell_type": "code",
   "execution_count": 6,
   "id": "4bb722e2",
   "metadata": {},
   "outputs": [],
   "source": [
    "# Step 5: Prediction functions\n",
    "def predict_intent(text):\n",
    "    text = text.lower()\n",
    "    input_data = vectorizer.transform([text])\n",
    "    predicted = model.predict(input_data)[0]\n",
    "\n",
    "    for intent in intents:\n",
    "        if intent[\"tag\"] == predicted:\n",
    "            return intent[\"response\"]\n",
    "    return \"I'm not sure I understand. Can you rephrase?\"\n",
    "\n",
    "def medical_chatbot(user_input):\n",
    "    user_input_lower = user_input.lower()\n",
    "\n",
    "    # Check medicine info\n",
    "    if not df.empty:\n",
    "        for _, row in df.iterrows():\n",
    "            if row['Medicine'] in user_input_lower:\n",
    "                return (\n",
    "                    f\"Medicine: {row['Medicine'].title()}\\n\"\n",
    "                    f\"Quantity: {row['Quantity']}\\n\"\n",
    "                    f\"Age: {row['Age']}\\n\"\n",
    "                    f\"Purpose: {row['Purpose']}\"\n",
    "                )\n",
    "    \n",
    "    # If no medicine found, respond by intent\n",
    "    return predict_intent(user_input)"
   ]
  },
  {
   "cell_type": "code",
   "execution_count": null,
   "id": "7826a2b3",
   "metadata": {},
   "outputs": [
    {
     "name": "stdout",
     "output_type": "stream",
     "text": [
      "You: hello\n",
      "Bot: Hello! How can I assist you today?\n",
      "You: hi\n",
      "Bot: Hello! How can I assist you today?\n",
      "You: Lisinopril\n",
      "Bot: Medicine: Lisinopril\n",
      "Quantity: 5-40 mg tablet\n",
      "Age: Adults\n",
      "Purpose: Treats high blood pressure and heart failure.\n",
      "You: Paracetamol\n",
      "Bot: Medicine: Paracetamol\n",
      "Quantity: 500 mg tablet\n",
      "Age: Adults and children above 12 years\n",
      "Purpose: Relieves mild to moderate pain and reduces fever.\n",
      "You: Thanks\n",
      "Bot: You're welcome!\n"
     ]
    }
   ],
   "source": [
    "def chat_with_bot():\n",
    "    while True:\n",
    "        user_input = input(\"You: \")\n",
    "        if user_input.lower() in ['exit', 'quit', 'bye']:\n",
    "            print(\"Bot: Goodbye!\")\n",
    "            break\n",
    "        response = medical_chatbot(user_input)\n",
    "        print(\"Bot:\", response)\n",
    "\n",
    "chat_with_bot()"
   ]
  },
  {
   "cell_type": "code",
   "execution_count": null,
   "id": "0135378d",
   "metadata": {},
   "outputs": [],
   "source": []
  },
  {
   "cell_type": "code",
   "execution_count": null,
   "id": "318a7bbb",
   "metadata": {},
   "outputs": [],
   "source": []
  }
 ],
 "metadata": {
  "kernelspec": {
   "display_name": "Python 3 (ipykernel)",
   "language": "python",
   "name": "python3"
  },
  "language_info": {
   "codemirror_mode": {
    "name": "ipython",
    "version": 3
   },
   "file_extension": ".py",
   "mimetype": "text/x-python",
   "name": "python",
   "nbconvert_exporter": "python",
   "pygments_lexer": "ipython3",
   "version": "3.11.5"
  }
 },
 "nbformat": 4,
 "nbformat_minor": 5
}
